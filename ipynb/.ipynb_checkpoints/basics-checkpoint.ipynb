{
 "cells": [
  {
   "cell_type": "code",
   "execution_count": 1,
   "metadata": {},
   "outputs": [
    {
     "name": "stdout",
     "output_type": "stream",
     "text": [
      "['seaborn-muted', 'classic', 'seaborn-dark-palette', 'grayscale', 'seaborn-notebook', 'seaborn-white', 'seaborn-talk', 'ggplot', 'seaborn-whitegrid', 'dark_background', 'seaborn-poster', 'seaborn-darkgrid', 'seaborn-deep', 'seaborn-colorblind', 'seaborn-pastel', 'fivethirtyeight', 'seaborn-ticks', 'seaborn-dark', 'Solarize_Light2', 'bmh', '_classic_test', 'seaborn', 'seaborn-bright', 'seaborn-paper', 'fast']\n"
     ]
    }
   ],
   "source": [
    "import sys\n",
    "import matplotlib.pyplot as plt\n",
    "import numpy as np\n",
    "sys.path.append(\"~/nest/lib/python3.6/site-packages/\") #\n",
    "import nest\n",
    "\n",
    "print(plt.style.available)\n",
    "plt.style.use('seaborn-poster')\n"
   ]
  },
  {
   "cell_type": "markdown",
   "metadata": {},
   "source": [
    "List all modules"
   ]
  },
  {
   "cell_type": "code",
   "execution_count": 3,
   "metadata": {
    "scrolled": true
   },
   "outputs": [
    {
     "data": {
      "text/plain": [
       "['BeginSubnet',\n",
       " 'CGConnect',\n",
       " 'CGParse',\n",
       " 'CGSelectImplementation',\n",
       " 'CONN_LEN',\n",
       " 'ChangeSubnet',\n",
       " 'Cleanup',\n",
       " 'Connect',\n",
       " 'ConnectionRules',\n",
       " 'CopyModel',\n",
       " 'Create',\n",
       " 'CurrentSubnet',\n",
       " 'DataConnect',\n",
       " 'DisableStructuralPlasticity',\n",
       " 'Disconnect',\n",
       " 'DisconnectOneToOne',\n",
       " 'EnableStructuralPlasticity',\n",
       " 'EndSubnet',\n",
       " 'GetChildren',\n",
       " 'GetConnections',\n",
       " 'GetDefaults',\n",
       " 'GetKernelStatus',\n",
       " 'GetLID',\n",
       " 'GetLeaves',\n",
       " 'GetNetwork',\n",
       " 'GetNodes',\n",
       " 'GetStatus',\n",
       " 'GetStructuralPlasticityStatus',\n",
       " 'Install',\n",
       " 'LayoutNetwork',\n",
       " 'Models',\n",
       " 'NESTEngine',\n",
       " 'NESTError',\n",
       " 'NumProcesses',\n",
       " 'Prepare',\n",
       " 'PrintNetwork',\n",
       " 'Rank',\n",
       " 'ResetKernel',\n",
       " 'ResetNetwork',\n",
       " 'ResumeSimulation',\n",
       " 'Run',\n",
       " 'RunManager',\n",
       " 'SLIDatum',\n",
       " 'SLILiteral',\n",
       " 'SetAcceptableLatency',\n",
       " 'SetDefaults',\n",
       " 'SetKernelStatus',\n",
       " 'SetMaxBuffered',\n",
       " 'SetNumRecProcesses',\n",
       " 'SetStatus',\n",
       " 'SetStructuralPlasticityStatus',\n",
       " 'Simulate',\n",
       " 'SuppressedDeprecationWarning',\n",
       " 'Template',\n",
       " '__builtins__',\n",
       " '__cached__',\n",
       " '__doc__',\n",
       " '__file__',\n",
       " '__loader__',\n",
       " '__name__',\n",
       " '__package__',\n",
       " '__path__',\n",
       " '__spec__',\n",
       " '_kernel',\n",
       " 'authors',\n",
       " 'broadcast',\n",
       " 'catching_sli_run',\n",
       " 'check_stack',\n",
       " 'contextmanager',\n",
       " 'deprecated',\n",
       " 'engine',\n",
       " 'functools',\n",
       " 'get_argv',\n",
       " 'get_debug',\n",
       " 'get_unistring_type',\n",
       " 'get_verbosity',\n",
       " 'get_wrapped_text',\n",
       " 'help',\n",
       " 'helpdesk',\n",
       " 'hl_api',\n",
       " 'init',\n",
       " 'initialized',\n",
       " 'inspect',\n",
       " 'is_coercible_to_sli_array',\n",
       " 'is_iterable',\n",
       " 'is_literal',\n",
       " 'is_sequence_of_connections',\n",
       " 'is_sequence_of_gids',\n",
       " 'is_string',\n",
       " 'json',\n",
       " 'kernel',\n",
       " 'lib',\n",
       " 'message',\n",
       " 'model_deprecation_warning',\n",
       " 'name',\n",
       " 'numpy',\n",
       " 'os',\n",
       " 'pcd',\n",
       " 'pynestkernel',\n",
       " 're',\n",
       " 'readline',\n",
       " 'scipy',\n",
       " 'set_debug',\n",
       " 'set_verbosity',\n",
       " 'show_deprecation_warning',\n",
       " 'show_help_with_pager',\n",
       " 'sli_func',\n",
       " 'sli_pop',\n",
       " 'sli_push',\n",
       " 'sli_run',\n",
       " 'spp',\n",
       " 'sps',\n",
       " 'sr',\n",
       " 'stack_checker',\n",
       " 'subprocess',\n",
       " 'sys',\n",
       " 'sysinfo',\n",
       " 'test',\n",
       " 'textwrap',\n",
       " 'uni_str',\n",
       " 'version',\n",
       " 'warnings',\n",
       " 'webbrowser']"
      ]
     },
     "execution_count": 3,
     "metadata": {},
     "output_type": "execute_result"
    }
   ],
   "source": [
    "dir(nest)"
   ]
  },
  {
   "cell_type": "markdown",
   "metadata": {},
   "source": [
    "Consult for help"
   ]
  },
  {
   "cell_type": "code",
   "execution_count": 4,
   "metadata": {
    "collapsed": true
   },
   "outputs": [],
   "source": [
    "nest.Models?"
   ]
  },
  {
   "cell_type": "markdown",
   "metadata": {},
   "source": [
    "Help desk can be used in browser given the correct configuration"
   ]
  },
  {
   "cell_type": "code",
   "execution_count": 14,
   "metadata": {},
   "outputs": [
    {
     "name": "stdout",
     "output_type": "stream",
     "text": [
      "NEST help needs to know where NEST is installed.Please source nest_vars.sh or define NEST_DOC_DIR manually.\n"
     ]
    }
   ],
   "source": [
    "nest.helpdesk()"
   ]
  },
  {
   "cell_type": "markdown",
   "metadata": {},
   "source": [
    "## Hello World"
   ]
  },
  {
   "cell_type": "markdown",
   "metadata": {},
   "source": [
    "Nodes:\n",
    "1. Neurons\n",
    "2. Devices\n",
    "3. Subnetworks"
   ]
  },
  {
   "cell_type": "code",
   "execution_count": 4,
   "metadata": {
    "collapsed": true
   },
   "outputs": [],
   "source": [
    "neuron = nest.Create(\"iaf_psc_alpha\")"
   ]
  },
  {
   "cell_type": "code",
   "execution_count": 5,
   "metadata": {},
   "outputs": [
    {
     "data": {
      "text/plain": [
       "({'C_m': 250.0,\n",
       "  'Ca': 0.0,\n",
       "  'E_L': -70.0,\n",
       "  'I_e': 0.0,\n",
       "  'V_m': -70.0,\n",
       "  'V_min': -inf,\n",
       "  'V_reset': -70.0,\n",
       "  'V_th': -55.0,\n",
       "  'archiver_length': 0,\n",
       "  'beta_Ca': 0.001,\n",
       "  'element_type': <SLILiteral: neuron>,\n",
       "  'frozen': False,\n",
       "  'global_id': 1,\n",
       "  'local': True,\n",
       "  'local_id': 1,\n",
       "  'model': <SLILiteral: iaf_psc_alpha>,\n",
       "  'node_uses_wfr': False,\n",
       "  'parent': 0,\n",
       "  'recordables': (<SLILiteral: I_syn_ex>,\n",
       "   <SLILiteral: I_syn_in>,\n",
       "   <SLILiteral: V_m>,\n",
       "   <SLILiteral: weighted_spikes_ex>,\n",
       "   <SLILiteral: weighted_spikes_in>),\n",
       "  'supports_precise_spikes': False,\n",
       "  'synaptic_elements': {},\n",
       "  't_ref': 2.0,\n",
       "  't_spike': -1.0,\n",
       "  'tau_Ca': 10000.0,\n",
       "  'tau_m': 10.0,\n",
       "  'tau_minus': 20.0,\n",
       "  'tau_minus_triplet': 110.0,\n",
       "  'tau_syn_ex': 2.0,\n",
       "  'tau_syn_in': 2.0,\n",
       "  'thread': 0,\n",
       "  'thread_local_id': -1,\n",
       "  'vp': 0},)"
      ]
     },
     "execution_count": 5,
     "metadata": {},
     "output_type": "execute_result"
    }
   ],
   "source": [
    "nest.GetStatus(neuron)"
   ]
  },
  {
   "cell_type": "code",
   "execution_count": 10,
   "metadata": {},
   "outputs": [
    {
     "data": {
      "text/plain": [
       "((0.0,), ((-70.0, -55.0),))"
      ]
     },
     "execution_count": 10,
     "metadata": {},
     "output_type": "execute_result"
    }
   ],
   "source": [
    "nest.GetStatus(neuron, \"I_e\"),\\\n",
    "nest.GetStatus(neuron, [\"V_reset\", \"V_th\"])"
   ]
  },
  {
   "cell_type": "code",
   "execution_count": 11,
   "metadata": {
    "collapsed": true
   },
   "outputs": [],
   "source": [
    "nest.SetStatus(neuron, {\"I_e\": 376.0})"
   ]
  },
  {
   "cell_type": "code",
   "execution_count": 12,
   "metadata": {},
   "outputs": [
    {
     "data": {
      "text/plain": [
       "(376.0,)"
      ]
     },
     "execution_count": 12,
     "metadata": {},
     "output_type": "execute_result"
    }
   ],
   "source": [
    "nest.GetStatus(neuron, \"I_e\")"
   ]
  },
  {
   "cell_type": "code",
   "execution_count": 13,
   "metadata": {
    "collapsed": true
   },
   "outputs": [],
   "source": [
    "multimeter = nest.Create(\"multimeter\")"
   ]
  },
  {
   "cell_type": "code",
   "execution_count": 14,
   "metadata": {
    "collapsed": true
   },
   "outputs": [],
   "source": [
    "nest.SetStatus(multimeter, {\"withtime\":True, \"record_from\":[\"V_m\"]})"
   ]
  },
  {
   "cell_type": "code",
   "execution_count": 15,
   "metadata": {
    "collapsed": true
   },
   "outputs": [],
   "source": [
    "spikedetector = nest.Create(\"spike_detector\", params={\"withgid\": True, \"withtime\": True})"
   ]
  },
  {
   "cell_type": "code",
   "execution_count": 16,
   "metadata": {
    "collapsed": true
   },
   "outputs": [],
   "source": [
    "nest.Connect(multimeter, neuron)"
   ]
  },
  {
   "cell_type": "code",
   "execution_count": 17,
   "metadata": {
    "collapsed": true
   },
   "outputs": [],
   "source": [
    "nest.Connect(neuron, spikedetector)"
   ]
  },
  {
   "cell_type": "code",
   "execution_count": 18,
   "metadata": {
    "collapsed": true
   },
   "outputs": [],
   "source": [
    "nest.Simulate(1000.0)"
   ]
  },
  {
   "cell_type": "code",
   "execution_count": 40,
   "metadata": {
    "collapsed": true
   },
   "outputs": [],
   "source": [
    "dmm = nest.GetStatus(multimeter)[0]\n",
    "Vms = dmm[\"events\"][\"V_m\"]\n",
    "ts = dmm[\"events\"][\"times\"]\n"
   ]
  },
  {
   "cell_type": "code",
   "execution_count": 42,
   "metadata": {},
   "outputs": [
    {
     "data": {
      "text/plain": [
       "[<matplotlib.lines.Line2D at 0x7f22159edf98>]"
      ]
     },
     "execution_count": 42,
     "metadata": {},
     "output_type": "execute_result"
    }
   ],
   "source": [
    "plt.subplot(2,1,1)\n",
    "plt.plot(ts, Vms)"
   ]
  },
  {
   "cell_type": "code",
   "execution_count": 43,
   "metadata": {
    "collapsed": true
   },
   "outputs": [],
   "source": [
    "\n",
    "dSD = nest.GetStatus(spikedetector,keys=\"events\")[0]\n",
    "evs = dSD[\"senders\"]\n",
    "ts = dSD[\"times\"]"
   ]
  },
  {
   "cell_type": "code",
   "execution_count": 44,
   "metadata": {
    "scrolled": false
   },
   "outputs": [
    {
     "data": {
      "image/png": "[encoded data removed]",
      "text/plain": [
       "<matplotlib.figure.Figure at 0x7f22159edeb8>"
      ]
     },
     "metadata": {},
     "output_type": "display_data"
    }
   ],
   "source": [
    "plt.subplot(2,1,2)\n",
    "plt.plot(ts, evs, \".\")\n",
    "plt.show()"
   ]
  },
  {
   "cell_type": "code",
   "execution_count": null,
   "metadata": {
    "collapsed": true
   },
   "outputs": [],
   "source": []
  }
 ],
 "metadata": {
  "kernelspec": {
   "display_name": "Python 3",
   "language": "python",
   "name": "python3"
  },
  "language_info": {
   "codemirror_mode": {
    "name": "ipython",
    "version": 3
   },
   "file_extension": ".py",
   "mimetype": "text/x-python",
   "name": "python",
   "nbconvert_exporter": "python",
   "pygments_lexer": "ipython3",
   "version": "3.6.2"
  }
 },
 "nbformat": 4,
 "nbformat_minor": 2
}
